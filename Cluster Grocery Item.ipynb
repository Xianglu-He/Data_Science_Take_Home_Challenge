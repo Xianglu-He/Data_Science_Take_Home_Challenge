{
 "cells": [
  {
   "cell_type": "code",
   "execution_count": 100,
   "metadata": {},
   "outputs": [],
   "source": [
    "#import packages\n",
    "import pandas as pd\n",
    "import numpy as np\n",
    "\n",
    "import seaborn as sns\n",
    "import matplotlib.pyplot as plt\n",
    "\n",
    "from sklearn.cluster import KMeans\n",
    "from sklearn.decomposition import PCA\n",
    "from sklearn.metrics import silhouette_score"
   ]
  },
  {
   "cell_type": "markdown",
   "metadata": {},
   "source": [
    "#### Data Import and Preparation "
   ]
  },
  {
   "cell_type": "code",
   "execution_count": 2,
   "metadata": {},
   "outputs": [
    {
     "data": {
      "text/html": [
       "<div>\n",
       "<style scoped>\n",
       "    .dataframe tbody tr th:only-of-type {\n",
       "        vertical-align: middle;\n",
       "    }\n",
       "\n",
       "    .dataframe tbody tr th {\n",
       "        vertical-align: top;\n",
       "    }\n",
       "\n",
       "    .dataframe thead th {\n",
       "        text-align: right;\n",
       "    }\n",
       "</style>\n",
       "<table border=\"1\" class=\"dataframe\">\n",
       "  <thead>\n",
       "    <tr style=\"text-align: right;\">\n",
       "      <th></th>\n",
       "      <th>Item_name</th>\n",
       "      <th>Item_id</th>\n",
       "    </tr>\n",
       "  </thead>\n",
       "  <tbody>\n",
       "    <tr>\n",
       "      <th>0</th>\n",
       "      <td>coffee</td>\n",
       "      <td>43</td>\n",
       "    </tr>\n",
       "    <tr>\n",
       "      <th>1</th>\n",
       "      <td>tea</td>\n",
       "      <td>23</td>\n",
       "    </tr>\n",
       "    <tr>\n",
       "      <th>2</th>\n",
       "      <td>juice</td>\n",
       "      <td>38</td>\n",
       "    </tr>\n",
       "    <tr>\n",
       "      <th>3</th>\n",
       "      <td>soda</td>\n",
       "      <td>9</td>\n",
       "    </tr>\n",
       "    <tr>\n",
       "      <th>4</th>\n",
       "      <td>sandwich loaves</td>\n",
       "      <td>39</td>\n",
       "    </tr>\n",
       "  </tbody>\n",
       "</table>\n",
       "</div>"
      ],
      "text/plain": [
       "         Item_name  Item_id\n",
       "0           coffee       43\n",
       "1              tea       23\n",
       "2            juice       38\n",
       "3             soda        9\n",
       "4  sandwich loaves       39"
      ]
     },
     "execution_count": 2,
     "metadata": {},
     "output_type": "execute_result"
    }
   ],
   "source": [
    "#import data\n",
    "item_id = pd.read_csv('item_to_id.csv')\n",
    "purchase_hist = pd.read_csv('purchase_history.csv')\n",
    "item_id.head()"
   ]
  },
  {
   "cell_type": "code",
   "execution_count": 3,
   "metadata": {},
   "outputs": [
    {
     "data": {
      "text/html": [
       "<div>\n",
       "<style scoped>\n",
       "    .dataframe tbody tr th:only-of-type {\n",
       "        vertical-align: middle;\n",
       "    }\n",
       "\n",
       "    .dataframe tbody tr th {\n",
       "        vertical-align: top;\n",
       "    }\n",
       "\n",
       "    .dataframe thead th {\n",
       "        text-align: right;\n",
       "    }\n",
       "</style>\n",
       "<table border=\"1\" class=\"dataframe\">\n",
       "  <thead>\n",
       "    <tr style=\"text-align: right;\">\n",
       "      <th></th>\n",
       "      <th>user_id</th>\n",
       "      <th>id</th>\n",
       "    </tr>\n",
       "  </thead>\n",
       "  <tbody>\n",
       "    <tr>\n",
       "      <th>0</th>\n",
       "      <td>222087</td>\n",
       "      <td>27,26</td>\n",
       "    </tr>\n",
       "    <tr>\n",
       "      <th>1</th>\n",
       "      <td>1343649</td>\n",
       "      <td>6,47,17</td>\n",
       "    </tr>\n",
       "    <tr>\n",
       "      <th>2</th>\n",
       "      <td>404134</td>\n",
       "      <td>18,12,23,22,27,43,38,20,35,1</td>\n",
       "    </tr>\n",
       "    <tr>\n",
       "      <th>3</th>\n",
       "      <td>1110200</td>\n",
       "      <td>9,23,2,20,26,47,37</td>\n",
       "    </tr>\n",
       "    <tr>\n",
       "      <th>4</th>\n",
       "      <td>224107</td>\n",
       "      <td>31,18,5,13,1,21,48,16,26,2,44,32,20,37,42,35,4...</td>\n",
       "    </tr>\n",
       "  </tbody>\n",
       "</table>\n",
       "</div>"
      ],
      "text/plain": [
       "   user_id                                                 id\n",
       "0   222087                                              27,26\n",
       "1  1343649                                            6,47,17\n",
       "2   404134                       18,12,23,22,27,43,38,20,35,1\n",
       "3  1110200                                 9,23,2,20,26,47,37\n",
       "4   224107  31,18,5,13,1,21,48,16,26,2,44,32,20,37,42,35,4..."
      ]
     },
     "execution_count": 3,
     "metadata": {},
     "output_type": "execute_result"
    }
   ],
   "source": [
    "purchase_hist.head()"
   ]
  },
  {
   "cell_type": "markdown",
   "metadata": {},
   "source": [
    "#### Details of user behavior and item purchased hist"
   ]
  },
  {
   "cell_type": "code",
   "execution_count": 50,
   "metadata": {},
   "outputs": [],
   "source": [
    "purchase_hist_expand = purchase_hist.set_index(purchase_hist['user_id']).id.str.split(',',expand=True).stack()\\\n",
    "    .reset_index().rename(columns={0:'id'}).loc[:,purchase_hist.columns]\n",
    "purchase_hist_expand['id'] = purchase_hist_expand['id'].astype('int')\n",
    "purchase_hist_expand.columns = ['user_id','Item_id']"
   ]
  },
  {
   "cell_type": "code",
   "execution_count": 54,
   "metadata": {},
   "outputs": [
    {
     "data": {
      "text/html": [
       "<div>\n",
       "<style scoped>\n",
       "    .dataframe tbody tr th:only-of-type {\n",
       "        vertical-align: middle;\n",
       "    }\n",
       "\n",
       "    .dataframe tbody tr th {\n",
       "        vertical-align: top;\n",
       "    }\n",
       "\n",
       "    .dataframe thead th {\n",
       "        text-align: right;\n",
       "    }\n",
       "</style>\n",
       "<table border=\"1\" class=\"dataframe\">\n",
       "  <thead>\n",
       "    <tr style=\"text-align: right;\">\n",
       "      <th></th>\n",
       "      <th>user_id</th>\n",
       "      <th>Item_id</th>\n",
       "      <th>Item_name</th>\n",
       "    </tr>\n",
       "  </thead>\n",
       "  <tbody>\n",
       "    <tr>\n",
       "      <th>0</th>\n",
       "      <td>222087</td>\n",
       "      <td>27</td>\n",
       "      <td>dishwashing</td>\n",
       "    </tr>\n",
       "    <tr>\n",
       "      <th>1</th>\n",
       "      <td>404134</td>\n",
       "      <td>27</td>\n",
       "      <td>dishwashing</td>\n",
       "    </tr>\n",
       "    <tr>\n",
       "      <th>2</th>\n",
       "      <td>987613</td>\n",
       "      <td>27</td>\n",
       "      <td>dishwashing</td>\n",
       "    </tr>\n",
       "    <tr>\n",
       "      <th>3</th>\n",
       "      <td>60201</td>\n",
       "      <td>27</td>\n",
       "      <td>dishwashing</td>\n",
       "    </tr>\n",
       "    <tr>\n",
       "      <th>4</th>\n",
       "      <td>1166671</td>\n",
       "      <td>27</td>\n",
       "      <td>dishwashing</td>\n",
       "    </tr>\n",
       "  </tbody>\n",
       "</table>\n",
       "</div>"
      ],
      "text/plain": [
       "   user_id  Item_id     Item_name\n",
       "0   222087       27  dishwashing \n",
       "1   404134       27  dishwashing \n",
       "2   987613       27  dishwashing \n",
       "3    60201       27  dishwashing \n",
       "4  1166671       27  dishwashing "
      ]
     },
     "execution_count": 54,
     "metadata": {},
     "output_type": "execute_result"
    }
   ],
   "source": [
    "total = purchase_hist_expand.merge(item_id,on = 'Item_id')\n",
    "total.head()"
   ]
  },
  {
   "cell_type": "code",
   "execution_count": 72,
   "metadata": {},
   "outputs": [
    {
     "data": {
      "text/plain": [
       "user_id\n",
       "269335     72\n",
       "367872     70\n",
       "599172     64\n",
       "397623     64\n",
       "377284     63\n",
       "1485538    62\n",
       "917199     62\n",
       "718218     60\n",
       "653800     60\n",
       "828721     58\n",
       "Name: Item_name, dtype: int64"
      ]
     },
     "execution_count": 72,
     "metadata": {},
     "output_type": "execute_result"
    }
   ],
   "source": [
    "#top 10 customers who bought the most items overall in her lifetime\n",
    "test = total[['user_id','Item_name']].groupby('user_id').count()\n",
    "test['Item_name'].sort_values(ascending = False)[0:10]"
   ]
  },
  {
   "cell_type": "code",
   "execution_count": 74,
   "metadata": {},
   "outputs": [
    {
     "data": {
      "text/plain": [
       "Item_name\n",
       "lettuce        14473\n",
       "sugar           9119\n",
       "cucumbers       9050\n",
       "cherries        9019\n",
       "apples          9008\n",
       "broccoli        8980\n",
       "grapefruit      8951\n",
       "bananas         8921\n",
       "cauliflower     8902\n",
       "berries         8878\n",
       "Name: user_id, dtype: int64"
      ]
     },
     "execution_count": 74,
     "metadata": {},
     "output_type": "execute_result"
    }
   ],
   "source": [
    "#top 10 items, the customer who bought that product the most\n",
    "test2 = total[['user_id','Item_name']].groupby('Item_name').count()\n",
    "test2['user_id'].sort_values(ascending = False)[0:10]"
   ]
  },
  {
   "cell_type": "code",
   "execution_count": 79,
   "metadata": {},
   "outputs": [
    {
     "data": {
      "text/html": [
       "<div>\n",
       "<style scoped>\n",
       "    .dataframe tbody tr th:only-of-type {\n",
       "        vertical-align: middle;\n",
       "    }\n",
       "\n",
       "    .dataframe tbody tr th {\n",
       "        vertical-align: top;\n",
       "    }\n",
       "\n",
       "    .dataframe thead th {\n",
       "        text-align: right;\n",
       "    }\n",
       "</style>\n",
       "<table border=\"1\" class=\"dataframe\">\n",
       "  <thead>\n",
       "    <tr style=\"text-align: right;\">\n",
       "      <th></th>\n",
       "      <th></th>\n",
       "    </tr>\n",
       "    <tr>\n",
       "      <th>user_id</th>\n",
       "      <th>Item_name</th>\n",
       "    </tr>\n",
       "  </thead>\n",
       "  <tbody>\n",
       "    <tr>\n",
       "      <th>47</th>\n",
       "      <th>aluminum foil</th>\n",
       "    </tr>\n",
       "    <tr>\n",
       "      <th>68</th>\n",
       "      <th>beef</th>\n",
       "    </tr>\n",
       "    <tr>\n",
       "      <th>113</th>\n",
       "      <th>aluminum foil</th>\n",
       "    </tr>\n",
       "    <tr>\n",
       "      <th>123</th>\n",
       "      <th>baby items</th>\n",
       "    </tr>\n",
       "    <tr>\n",
       "      <th>223</th>\n",
       "      <th>apples</th>\n",
       "    </tr>\n",
       "    <tr>\n",
       "      <th>...</th>\n",
       "      <th>...</th>\n",
       "    </tr>\n",
       "    <tr>\n",
       "      <th>1499730</th>\n",
       "      <th>cauliflower</th>\n",
       "    </tr>\n",
       "    <tr>\n",
       "      <th>1499778</th>\n",
       "      <th>apples</th>\n",
       "    </tr>\n",
       "    <tr>\n",
       "      <th>1499797</th>\n",
       "      <th>bagels</th>\n",
       "    </tr>\n",
       "    <tr>\n",
       "      <th>1499817</th>\n",
       "      <th>apples</th>\n",
       "    </tr>\n",
       "    <tr>\n",
       "      <th>1499974</th>\n",
       "      <th>bagels</th>\n",
       "    </tr>\n",
       "  </tbody>\n",
       "</table>\n",
       "<p>24885 rows × 0 columns</p>\n",
       "</div>"
      ],
      "text/plain": [
       "Empty DataFrame\n",
       "Columns: []\n",
       "Index: [(47, aluminum foil), (68, beef), (113, aluminum foil), (123, baby items), (223, apples), (281, bagels), (323, broccoli), (394, bananas), (420, apples), (453, carrots), (527, aluminum foil), (553, aluminum foil), (556, apples), (609, bagels), (613, aluminum foil), (621, broccoli), (713, apples), (770, apples), (950, baby items), (956, bagels), (960, bagels), (990, apples), (1075, bananas), (1233, bagels), (1260, cereals), (1304, baby items), (1312, eggs), (1315, canned vegetables), (1379, bagels), (1383, apples), (1444, beef), (1520, cheeses), (1578, cereals), (1769, bagels), (1789, broccoli), (1814, berries), (1833, beef), (1835, beef), (1849, aluminum foil), (2007, canned vegetables), (2098, bananas), (2113, bananas), (2198, apples), (2216, apples), (2325, bagels), (2345, aluminum foil), (2655, bagels), (2742, hand soap), (2945, berries), (3007, bananas), (3009, bagels), (3021, broccoli), (3048, coffee), (3053, berries), (3086, broccoli), (3137, apples), (3143, apples), (3182, apples), (3217, canned vegetables), (3300, soda), (3333, baby items), (3488, apples), (3502, broccoli), (3639, apples), (3775, beef), (3782, baby items), (3793, beef), (3831, apples), (3868, coffee), (3888, apples), (4013, apples), (4026, broccoli), (4036, aluminum foil), (4135, bananas), (4238, apples), (4359, apples), (4403, aluminum foil), (4442, beef), (4539, apples), (4552, dishwashing ), (4688, bagels), (4822, berries), (4842, apples), (4893, aluminum foil), (4974, hand soap), (4976, bagels), (4979, bagels), (5124, apples), (5190, aluminum foil), (5258, bananas), (5270, canned vegetables), (5285, carrots), (5289, baby items), (5298, dishwashing ), (5376, apples), (5418, bagels), (5444, apples), (5454, eggs), (5577, apples), (5596, carrots), ...]\n",
       "\n",
       "[24885 rows x 0 columns]"
      ]
     },
     "execution_count": 79,
     "metadata": {},
     "output_type": "execute_result"
    }
   ],
   "source": [
    "#each customers the most items that they bought\n",
    "test3 = total[['user_id','Item_name']].groupby(['user_id','Item_name']).count()\n",
    "test3.groupby('user_id').head(1)"
   ]
  },
  {
   "cell_type": "markdown",
   "metadata": {},
   "source": [
    "#### Cluster Item"
   ]
  },
  {
   "cell_type": "code",
   "execution_count": 96,
   "metadata": {},
   "outputs": [],
   "source": [
    "Q2 = purchase_hist_expand.reset_index()\n",
    "Q2 = Q2.groupby(['user_id','Item_id']).index.count().reset_index().pivot(index='Item_id', columns='user_id', values = 'index').fillna(0)"
   ]
  },
  {
   "cell_type": "code",
   "execution_count": 97,
   "metadata": {
    "scrolled": true
   },
   "outputs": [
    {
     "data": {
      "text/html": [
       "<div>\n",
       "<style scoped>\n",
       "    .dataframe tbody tr th:only-of-type {\n",
       "        vertical-align: middle;\n",
       "    }\n",
       "\n",
       "    .dataframe tbody tr th {\n",
       "        vertical-align: top;\n",
       "    }\n",
       "\n",
       "    .dataframe thead th {\n",
       "        text-align: right;\n",
       "    }\n",
       "</style>\n",
       "<table border=\"1\" class=\"dataframe\">\n",
       "  <thead>\n",
       "    <tr style=\"text-align: right;\">\n",
       "      <th>user_id</th>\n",
       "      <th>47</th>\n",
       "      <th>68</th>\n",
       "      <th>113</th>\n",
       "      <th>123</th>\n",
       "      <th>223</th>\n",
       "      <th>281</th>\n",
       "      <th>323</th>\n",
       "      <th>394</th>\n",
       "      <th>420</th>\n",
       "      <th>453</th>\n",
       "      <th>...</th>\n",
       "      <th>1499502</th>\n",
       "      <th>1499523</th>\n",
       "      <th>1499563</th>\n",
       "      <th>1499702</th>\n",
       "      <th>1499727</th>\n",
       "      <th>1499730</th>\n",
       "      <th>1499778</th>\n",
       "      <th>1499797</th>\n",
       "      <th>1499817</th>\n",
       "      <th>1499974</th>\n",
       "    </tr>\n",
       "    <tr>\n",
       "      <th>Item_id</th>\n",
       "      <th></th>\n",
       "      <th></th>\n",
       "      <th></th>\n",
       "      <th></th>\n",
       "      <th></th>\n",
       "      <th></th>\n",
       "      <th></th>\n",
       "      <th></th>\n",
       "      <th></th>\n",
       "      <th></th>\n",
       "      <th></th>\n",
       "      <th></th>\n",
       "      <th></th>\n",
       "      <th></th>\n",
       "      <th></th>\n",
       "      <th></th>\n",
       "      <th></th>\n",
       "      <th></th>\n",
       "      <th></th>\n",
       "      <th></th>\n",
       "      <th></th>\n",
       "    </tr>\n",
       "  </thead>\n",
       "  <tbody>\n",
       "    <tr>\n",
       "      <th>1</th>\n",
       "      <td>0.0</td>\n",
       "      <td>0.0</td>\n",
       "      <td>0.0</td>\n",
       "      <td>0.0</td>\n",
       "      <td>1.0</td>\n",
       "      <td>0.0</td>\n",
       "      <td>1.0</td>\n",
       "      <td>1.0</td>\n",
       "      <td>0.0</td>\n",
       "      <td>1.0</td>\n",
       "      <td>...</td>\n",
       "      <td>0.0</td>\n",
       "      <td>0.0</td>\n",
       "      <td>1.0</td>\n",
       "      <td>0.0</td>\n",
       "      <td>0.0</td>\n",
       "      <td>0.0</td>\n",
       "      <td>0.0</td>\n",
       "      <td>0.0</td>\n",
       "      <td>1.0</td>\n",
       "      <td>0.0</td>\n",
       "    </tr>\n",
       "    <tr>\n",
       "      <th>2</th>\n",
       "      <td>1.0</td>\n",
       "      <td>0.0</td>\n",
       "      <td>0.0</td>\n",
       "      <td>0.0</td>\n",
       "      <td>1.0</td>\n",
       "      <td>0.0</td>\n",
       "      <td>0.0</td>\n",
       "      <td>1.0</td>\n",
       "      <td>1.0</td>\n",
       "      <td>1.0</td>\n",
       "      <td>...</td>\n",
       "      <td>1.0</td>\n",
       "      <td>0.0</td>\n",
       "      <td>1.0</td>\n",
       "      <td>0.0</td>\n",
       "      <td>0.0</td>\n",
       "      <td>0.0</td>\n",
       "      <td>1.0</td>\n",
       "      <td>0.0</td>\n",
       "      <td>2.0</td>\n",
       "      <td>0.0</td>\n",
       "    </tr>\n",
       "    <tr>\n",
       "      <th>3</th>\n",
       "      <td>1.0</td>\n",
       "      <td>0.0</td>\n",
       "      <td>1.0</td>\n",
       "      <td>0.0</td>\n",
       "      <td>0.0</td>\n",
       "      <td>1.0</td>\n",
       "      <td>0.0</td>\n",
       "      <td>0.0</td>\n",
       "      <td>0.0</td>\n",
       "      <td>0.0</td>\n",
       "      <td>...</td>\n",
       "      <td>0.0</td>\n",
       "      <td>0.0</td>\n",
       "      <td>0.0</td>\n",
       "      <td>0.0</td>\n",
       "      <td>0.0</td>\n",
       "      <td>0.0</td>\n",
       "      <td>0.0</td>\n",
       "      <td>1.0</td>\n",
       "      <td>0.0</td>\n",
       "      <td>0.0</td>\n",
       "    </tr>\n",
       "    <tr>\n",
       "      <th>4</th>\n",
       "      <td>1.0</td>\n",
       "      <td>0.0</td>\n",
       "      <td>0.0</td>\n",
       "      <td>1.0</td>\n",
       "      <td>0.0</td>\n",
       "      <td>0.0</td>\n",
       "      <td>0.0</td>\n",
       "      <td>0.0</td>\n",
       "      <td>0.0</td>\n",
       "      <td>0.0</td>\n",
       "      <td>...</td>\n",
       "      <td>0.0</td>\n",
       "      <td>1.0</td>\n",
       "      <td>0.0</td>\n",
       "      <td>0.0</td>\n",
       "      <td>0.0</td>\n",
       "      <td>0.0</td>\n",
       "      <td>0.0</td>\n",
       "      <td>0.0</td>\n",
       "      <td>0.0</td>\n",
       "      <td>0.0</td>\n",
       "    </tr>\n",
       "    <tr>\n",
       "      <th>5</th>\n",
       "      <td>0.0</td>\n",
       "      <td>0.0</td>\n",
       "      <td>0.0</td>\n",
       "      <td>0.0</td>\n",
       "      <td>0.0</td>\n",
       "      <td>0.0</td>\n",
       "      <td>0.0</td>\n",
       "      <td>0.0</td>\n",
       "      <td>0.0</td>\n",
       "      <td>0.0</td>\n",
       "      <td>...</td>\n",
       "      <td>0.0</td>\n",
       "      <td>0.0</td>\n",
       "      <td>0.0</td>\n",
       "      <td>0.0</td>\n",
       "      <td>0.0</td>\n",
       "      <td>0.0</td>\n",
       "      <td>0.0</td>\n",
       "      <td>0.0</td>\n",
       "      <td>0.0</td>\n",
       "      <td>1.0</td>\n",
       "    </tr>\n",
       "  </tbody>\n",
       "</table>\n",
       "<p>5 rows × 24885 columns</p>\n",
       "</div>"
      ],
      "text/plain": [
       "user_id  47       68       113      123      223      281      323      \\\n",
       "Item_id                                                                  \n",
       "1            0.0      0.0      0.0      0.0      1.0      0.0      1.0   \n",
       "2            1.0      0.0      0.0      0.0      1.0      0.0      0.0   \n",
       "3            1.0      0.0      1.0      0.0      0.0      1.0      0.0   \n",
       "4            1.0      0.0      0.0      1.0      0.0      0.0      0.0   \n",
       "5            0.0      0.0      0.0      0.0      0.0      0.0      0.0   \n",
       "\n",
       "user_id  394      420      453      ...  1499502  1499523  1499563  1499702  \\\n",
       "Item_id                             ...                                       \n",
       "1            1.0      0.0      1.0  ...      0.0      0.0      1.0      0.0   \n",
       "2            1.0      1.0      1.0  ...      1.0      0.0      1.0      0.0   \n",
       "3            0.0      0.0      0.0  ...      0.0      0.0      0.0      0.0   \n",
       "4            0.0      0.0      0.0  ...      0.0      1.0      0.0      0.0   \n",
       "5            0.0      0.0      0.0  ...      0.0      0.0      0.0      0.0   \n",
       "\n",
       "user_id  1499727  1499730  1499778  1499797  1499817  1499974  \n",
       "Item_id                                                        \n",
       "1            0.0      0.0      0.0      0.0      1.0      0.0  \n",
       "2            0.0      0.0      1.0      0.0      2.0      0.0  \n",
       "3            0.0      0.0      0.0      1.0      0.0      0.0  \n",
       "4            0.0      0.0      0.0      0.0      0.0      0.0  \n",
       "5            0.0      0.0      0.0      0.0      0.0      1.0  \n",
       "\n",
       "[5 rows x 24885 columns]"
      ]
     },
     "execution_count": 97,
     "metadata": {},
     "output_type": "execute_result"
    }
   ],
   "source": [
    "Q2.head()"
   ]
  },
  {
   "cell_type": "code",
   "execution_count": 98,
   "metadata": {},
   "outputs": [],
   "source": [
    "# determine the best number of clusters\n",
    "clusters = range(2, 30)\n",
    "inertias = []\n",
    "silhouettes = []\n",
    "\n",
    "for n_clusters in clusters:\n",
    "    kmeans = KMeans(n_clusters=n_clusters, init='k-means++', random_state=2020, n_jobs=-1)\n",
    "    kmeans = kmeans.fit(Q2)\n",
    "    label = kmeans.predict(Q2)\n",
    "    \n",
    "    inertias.append(kmeans.inertia_)\n",
    "    silhouettes.append(silhouette_score(Q2, label))"
   ]
  },
  {
   "cell_type": "code",
   "execution_count": 101,
   "metadata": {},
   "outputs": [
    {
     "data": {
      "image/png": "[encoded data removed]",
      "text/plain": [
       "<Figure size 1296x432 with 2 Axes>"
      ]
     },
     "metadata": {
      "needs_background": "light"
     },
     "output_type": "display_data"
    }
   ],
   "source": [
    "# visualization\n",
    "fig, ax = plt.subplots(nrows=1, ncols=2, figsize=(18, 6))\n",
    "ax[0].plot(clusters, inertias, 'o-', label='Sum of Squared Distances')\n",
    "ax[0].grid(True)\n",
    "ax[1].plot(clusters, silhouettes, 'o-', label='Silhouette Coefficient')\n",
    "ax[1].grid(True)\n",
    "plt.legend(fontsize=12)\n",
    "plt.tight_layout()\n",
    "plt.show()"
   ]
  },
  {
   "cell_type": "markdown",
   "metadata": {},
   "source": [
    "The graph shows that 12 or 13 clusters would have the best small silhouette Coefficient"
   ]
  },
  {
   "cell_type": "code",
   "execution_count": 102,
   "metadata": {},
   "outputs": [],
   "source": [
    "# build K-Means model\n",
    "kmeans = KMeans(n_clusters=12, init='k-means++', random_state=2020, n_jobs=-1)\n",
    "kmeans = kmeans.fit(Q2)\n",
    "label = kmeans.predict(Q2)"
   ]
  },
  {
   "cell_type": "code",
   "execution_count": 103,
   "metadata": {},
   "outputs": [],
   "source": [
    "# PCA for dimension reduction\n",
    "pca = PCA(n_components=2, random_state=2020)\n",
    "pca = pca.fit(Q2)\n",
    "pca_feature = pca.transform(Q2)"
   ]
  },
  {
   "cell_type": "code",
   "execution_count": 105,
   "metadata": {},
   "outputs": [
    {
     "data": {
      "image/png": "[encoded data removed]",
      "text/plain": [
       "<Figure size 1152x1152 with 1 Axes>"
      ]
     },
     "metadata": {
      "needs_background": "light"
     },
     "output_type": "display_data"
    }
   ],
   "source": [
    "# visualization in 2D\n",
    "colors = ['b', 'g', 'r', 'c', 'm', 'y', 'k', 'w']\n",
    "\n",
    "fig, ax = plt.subplots(figsize=(16, 16))\n",
    "for j in range(len(pca_feature)):\n",
    "    x = pca_feature[j][0]\n",
    "    y = pca_feature[j][1]\n",
    "    ax.plot(x, y, 'o', color=colors[label[j] % 8])\n",
    "    name = item_id[item_id['Item_id'] == j + 1]['Item_name']\n",
    "    ax.annotate(xy=(x+0.2, y+0.2), s=name.values[0], fontsize=12)\n",
    "\n",
    "plt.show()"
   ]
  },
  {
   "cell_type": "code",
   "execution_count": 107,
   "metadata": {},
   "outputs": [
    {
     "name": "stdout",
     "output_type": "stream",
     "text": [
      "0 \t ['carrots', 'broccoli']\n",
      "1 \t ['eggs']\n",
      "2 \t ['bagels', 'sandwich loaves']\n",
      "3 \t ['sugar', 'pet items', 'baby items', 'waffles', 'sandwich bags', 'butter', 'cereals', 'shampoo', 'aluminum foil', 'milk', 'laundry detergent', 'shaving cream', 'cheeses', 'frozen vegetables', 'paper towels', 'spaghetti sauce', 'dishwashing\\xa0', 'canned vegetables', 'hand soap', 'flour', 'pasta', 'toilet paper', 'soap', 'ice cream', 'ketchup', 'cauliflower', 'yogurt']\n",
      "4 \t ['tortillas', 'dinner rolls']\n",
      "5 \t ['lettuce']\n",
      "6 \t ['soda', 'juice']\n",
      "7 \t ['poultry', 'beef', 'pork']\n",
      "8 \t ['berries']\n",
      "9 \t ['tea', 'coffee']\n",
      "10 \t ['cucumbers']\n",
      "11 \t ['grapefruit', 'cherries', 'apples', 'bananas']\n"
     ]
    }
   ],
   "source": [
    "# print useful information\n",
    "df = pd.DataFrame({'Item_id': list(range(1, 49)), 'label': label})\n",
    "df = pd.merge(left=df, right=item_id, on='Item_id', how='left')\n",
    "\n",
    "for i in range(0, 12):\n",
    "    print(i, '\\t', list(df[df['label'] == i]['Item_name']))"
   ]
  }
 ],
 "metadata": {
  "kernelspec": {
   "display_name": "Python 3",
   "language": "python",
   "name": "python3"
  },
  "language_info": {
   "codemirror_mode": {
    "name": "ipython",
    "version": 3
   },
   "file_extension": ".py",
   "mimetype": "text/x-python",
   "name": "python",
   "nbconvert_exporter": "python",
   "pygments_lexer": "ipython3",
   "version": "3.7.6"
  }
 },
 "nbformat": 4,
 "nbformat_minor": 2
}
